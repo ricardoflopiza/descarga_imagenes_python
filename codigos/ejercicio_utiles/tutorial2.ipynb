{
 "cells": [
  {
   "cell_type": "code",
   "execution_count": 1,
   "metadata": {},
   "outputs": [],
   "source": [
    "import ee\n",
    "import geopandas as gpd\n",
    "import json\n",
    "import pandas as pd\n",
    "import geemap\n",
    "\n",
    "\n",
    "# https://developers.google.com/earth-engine/guides/service_account#use-a-service-account-with-a-private-key\n",
    "\n",
    "service_account = 'gee-ine@ee-ricpizarrosine.iam.gserviceaccount.com'\n",
    "credentials = ee.ServiceAccountCredentials(service_account, 'privatekey.json')\n",
    "ee.Initialize(credentials)"
   ]
  },
  {
   "cell_type": "code",
   "execution_count": 4,
   "metadata": {},
   "outputs": [
    {
     "data": {
      "text/html": [
       "<div>\n",
       "<style scoped>\n",
       "    .dataframe tbody tr th:only-of-type {\n",
       "        vertical-align: middle;\n",
       "    }\n",
       "\n",
       "    .dataframe tbody tr th {\n",
       "        vertical-align: top;\n",
       "    }\n",
       "\n",
       "    .dataframe thead th {\n",
       "        text-align: right;\n",
       "    }\n",
       "</style>\n",
       "<table border=\"1\" class=\"dataframe\">\n",
       "  <thead>\n",
       "    <tr style=\"text-align: right;\">\n",
       "      <th></th>\n",
       "      <th>Name</th>\n",
       "      <th>Lat</th>\n",
       "      <th>Lon</th>\n",
       "    </tr>\n",
       "  </thead>\n",
       "  <tbody>\n",
       "    <tr>\n",
       "      <th>0</th>\n",
       "      <td>Site-1</td>\n",
       "      <td>-42.44</td>\n",
       "      <td>145.73</td>\n",
       "    </tr>\n",
       "    <tr>\n",
       "      <th>1</th>\n",
       "      <td>Site-2</td>\n",
       "      <td>-42.48</td>\n",
       "      <td>146.36</td>\n",
       "    </tr>\n",
       "    <tr>\n",
       "      <th>2</th>\n",
       "      <td>Site-3</td>\n",
       "      <td>-42.14</td>\n",
       "      <td>146.04</td>\n",
       "    </tr>\n",
       "  </tbody>\n",
       "</table>\n",
       "</div>"
      ],
      "text/plain": [
       "     Name    Lat     Lon\n",
       "0  Site-1 -42.44  145.73\n",
       "1  Site-2 -42.48  146.36\n",
       "2  Site-3 -42.14  146.04"
      ]
     },
     "execution_count": 4,
     "metadata": {},
     "output_type": "execute_result"
    }
   ],
   "source": [
    "# I import this data from a .csv file, but to make a running exmample, here I create the DataFrame manually\n",
    "data = [['Site-1', -42.44, 145.73],\n",
    "        ['Site-2', -42.48, 146.36],\n",
    "        ['Site-3', -42.14, 146.04]]\n",
    "df = pd.DataFrame(data, columns = ['Name', 'Lat', 'Lon'])\n",
    " \n",
    "df"
   ]
  },
  {
   "cell_type": "code",
   "execution_count": null,
   "metadata": {},
   "outputs": [],
   "source": [
    "# Convert the dataframe to FeatureCollection\n",
    "features = []\n",
    "for index, row in df.iterrows():\n",
    "    g = ee.Geometry.Point([row[\"Lon\"], row[\"Lat\"]])\n",
    "    feature = ee.Feature(g, {\"Name\": ee.String((row[\"Name\"]))})\n",
    "    features.append(feature)\n",
    "\n",
    "pts = ee.FeatureCollection(features)\n"
   ]
  },
  {
   "cell_type": "code",
   "execution_count": 13,
   "metadata": {},
   "outputs": [],
   "source": [
    "# Create different buffer sizes around each point\n",
    "def makeBuffer(size):\n",
    "    def addBuffer(feature):\n",
    "        return feature.buffer(size)\n",
    "    return addBuffer\n",
    "pts1000 = pts.map(makeBuffer(1000))\n",
    "pts5000 = pts.map(makeBuffer(5000))\n",
    "pts10000 = pts.map(makeBuffer(10000))\n",
    "\n"
   ]
  },
  {
   "cell_type": "code",
   "execution_count": 14,
   "metadata": {},
   "outputs": [],
   "source": [
    "#### Extract the mean NDVI for each Buffer ####\n",
    "startDate = '2001-02-01'\n",
    "endDate = '2003-03-31'\n",
    "\n",
    "modisNDVI = ee.ImageCollection('MODIS/MOD09GA_006_NDVI').select('NDVI').filterDate(startDate, endDate)\n",
    "\n"
   ]
  },
  {
   "cell_type": "code",
   "execution_count": 17,
   "metadata": {},
   "outputs": [],
   "source": [
    "# Reducing across year-month\n",
    "def calcNDVI(n):\n",
    "    date = ee.Date(startDate).advance(n,'month')\n",
    "    m = date.get(\"month\")\n",
    "    y = date.get(\"year\")\n",
    "    tempNDVI = (modisNDVI.filter(ee.Filter.calendarRange(y, y, 'year'))\n",
    "                .filter(ee.Filter.calendarRange(m, m, 'month'))\n",
    "                .mean()\n",
    "                .set('year',y)\n",
    "                .set('month',m))\n",
    "    return tempNDVI            \n",
    "\n",
    "# calculate the number of months to iterate\n",
    "StartD = ee.Date(startDate)\n",
    "EndD = ee.Date(endDate)\n",
    "num_months = ((EndD.get(\"year\").getInfo() - StartD.get(\"year\").getInfo()) * 12 +\n",
    "              (EndD.get(\"month\").getInfo() - StartD.get(\"month\").getInfo()))\n",
    "\n",
    "# iterate\n",
    "modis_YrMo = ee.List.sequence(0, num_months).map(calcNDVI)\n"
   ]
  },
  {
   "cell_type": "code",
   "execution_count": 19,
   "metadata": {},
   "outputs": [
    {
     "ename": "ModuleNotFoundError",
     "evalue": "No module named 'geemap'",
     "output_type": "error",
     "traceback": [
      "\u001b[1;31m---------------------------------------------------------------------------\u001b[0m",
      "\u001b[1;31mModuleNotFoundError\u001b[0m                       Traceback (most recent call last)",
      "\u001b[1;32mc:\\Users\\Ricardo\\OneDrive - Instituto Nacional de Estadisticas\\Documentos\\INE\\Imagenes_satelitales\\python_descarga\\tutorial2.ipynb Cell 7\u001b[0m line \u001b[0;36m1\n\u001b[1;32m----> <a href='vscode-notebook-cell:/c%3A/Users/Ricardo/OneDrive%20-%20Instituto%20Nacional%20de%20Estadisticas/Documentos/INE/Imagenes_satelitales/python_descarga/tutorial2.ipynb#X10sZmlsZQ%3D%3D?line=0'>1</a>\u001b[0m \u001b[39mimport\u001b[39;00m \u001b[39mgeemap\u001b[39;00m\n\u001b[0;32m      <a href='vscode-notebook-cell:/c%3A/Users/Ricardo/OneDrive%20-%20Instituto%20Nacional%20de%20Estadisticas/Documentos/INE/Imagenes_satelitales/python_descarga/tutorial2.ipynb#X10sZmlsZQ%3D%3D?line=2'>3</a>\u001b[0m \u001b[39m### Calculate the mean NDVI inside each polygon(buffer)\u001b[39;00m\n\u001b[0;32m      <a href='vscode-notebook-cell:/c%3A/Users/Ricardo/OneDrive%20-%20Instituto%20Nacional%20de%20Estadisticas/Documentos/INE/Imagenes_satelitales/python_descarga/tutorial2.ipynb#X10sZmlsZQ%3D%3D?line=3'>4</a>\u001b[0m \u001b[39mdef\u001b[39;00m \u001b[39mcalcmean\u001b[39m(fc):\n",
      "\u001b[1;31mModuleNotFoundError\u001b[0m: No module named 'geemap'"
     ]
    }
   ],
   "source": [
    "\n",
    "### Calculate the mean NDVI inside each polygon(buffer)\n",
    "def calcmean(fc):\n",
    "    def regionmean(image):\n",
    "      reduced = image.reduceRegions(\n",
    "                  collection = fc,\n",
    "                  reducer = ee.Reducer.mean(),\n",
    "                  scale = 30)\n",
    "      return reduced\n",
    "    return regionmean\n",
    "\n",
    "finalNDVI_1000 = ee.ImageCollection(modis_YrMo).map(calcmean(pts1000)).flatten()\n",
    "df = geemap.ee_to_pandas(finalNDVI_1000)\n",
    "\n",
    "print(modis_YrMo.getInfo()[1])"
   ]
  },
  {
   "cell_type": "code",
   "execution_count": 37,
   "metadata": {},
   "outputs": [],
   "source": [
    "import datetime\n",
    "import ee\n",
    "\n",
    "#Feature collection\n",
    "shp_path = \"ips_shapes/ips_shapes.shp\"\n",
    "\n",
    "shp_path = \"ips_shapes/ips_shapes.shp\"\n",
    "\n",
    "# we read our shapefile in to a geopandas data frame using the geopandas.read_file method\n",
    "# we'll make sure it's initiated in the EPSG 4326 CRS\n",
    "shp_gdf = gpd.read_file(shp_path, crs='EPSG:4326')\n"
   ]
  },
  {
   "cell_type": "code",
   "execution_count": 38,
   "metadata": {},
   "outputs": [],
   "source": [
    "# define a helper function to put the geodataframe in the right format for constructing an ee object\n",
    "def shp_to_ee_fmt(geodf):\n",
    "    data = json.loads(geodf.to_json())\n",
    "    return data['features'][0]['geometry']['coordinates']\n",
    "\n",
    "shp = ee.Geometry.MultiPolygon(shp_to_ee_fmt(shp_gdf))\n",
    "#print(shp)"
   ]
  },
  {
   "cell_type": "code",
   "execution_count": 39,
   "metadata": {},
   "outputs": [
    {
     "ename": "AttributeError",
     "evalue": "'Geometry' object has no attribute 'geometry'",
     "output_type": "error",
     "traceback": [
      "\u001b[1;31m---------------------------------------------------------------------------\u001b[0m",
      "\u001b[1;31mAttributeError\u001b[0m                            Traceback (most recent call last)",
      "\u001b[1;32mc:\\Users\\Ricardo\\OneDrive - Instituto Nacional de Estadisticas\\Documentos\\INE\\Imagenes_satelitales\\python_descarga\\tutorial2.ipynb Cell 10\u001b[0m line \u001b[0;36m1\n\u001b[1;32m----> <a href='vscode-notebook-cell:/c%3A/Users/Ricardo/OneDrive%20-%20Instituto%20Nacional%20de%20Estadisticas/Documentos/INE/Imagenes_satelitales/python_descarga/tutorial2.ipynb#X14sZmlsZQ%3D%3D?line=0'>1</a>\u001b[0m shp\u001b[39m.\u001b[39;49mgeometry()\n",
      "\u001b[1;31mAttributeError\u001b[0m: 'Geometry' object has no attribute 'geometry'"
     ]
    }
   ],
   "source": [
    "shp.geometry()"
   ]
  },
  {
   "cell_type": "code",
   "execution_count": 45,
   "metadata": {},
   "outputs": [
    {
     "ename": "EEException",
     "evalue": "Collection.loadTable: Collection asset 'ft:1s57dkY_Sg_E_COTe3sy1tIR_U-5Gw-BQNwHh4Xel' not found.",
     "output_type": "error",
     "traceback": [
      "\u001b[1;31m---------------------------------------------------------------------------\u001b[0m",
      "\u001b[1;31mHttpError\u001b[0m                                 Traceback (most recent call last)",
      "File \u001b[1;32mc:\\Users\\Ricardo\\AppData\\Local\\R-MINI~1\\Lib\\site-packages\\ee\\data.py:354\u001b[0m, in \u001b[0;36m_execute_cloud_call\u001b[1;34m(call, num_retries)\u001b[0m\n\u001b[0;32m    353\u001b[0m \u001b[39mtry\u001b[39;00m:\n\u001b[1;32m--> 354\u001b[0m   \u001b[39mreturn\u001b[39;00m call\u001b[39m.\u001b[39;49mexecute(num_retries\u001b[39m=\u001b[39;49mnum_retries)\n\u001b[0;32m    355\u001b[0m \u001b[39mexcept\u001b[39;00m googleapiclient\u001b[39m.\u001b[39merrors\u001b[39m.\u001b[39mHttpError \u001b[39mas\u001b[39;00m e:\n",
      "File \u001b[1;32mc:\\Users\\Ricardo\\AppData\\Local\\R-MINI~1\\Lib\\site-packages\\googleapiclient\\_helpers.py:130\u001b[0m, in \u001b[0;36mpositional.<locals>.positional_decorator.<locals>.positional_wrapper\u001b[1;34m(*args, **kwargs)\u001b[0m\n\u001b[0;32m    129\u001b[0m         logger\u001b[39m.\u001b[39mwarning(message)\n\u001b[1;32m--> 130\u001b[0m \u001b[39mreturn\u001b[39;00m wrapped(\u001b[39m*\u001b[39;49margs, \u001b[39m*\u001b[39;49m\u001b[39m*\u001b[39;49mkwargs)\n",
      "File \u001b[1;32mc:\\Users\\Ricardo\\AppData\\Local\\R-MINI~1\\Lib\\site-packages\\googleapiclient\\http.py:938\u001b[0m, in \u001b[0;36mHttpRequest.execute\u001b[1;34m(self, http, num_retries)\u001b[0m\n\u001b[0;32m    937\u001b[0m \u001b[39mif\u001b[39;00m resp\u001b[39m.\u001b[39mstatus \u001b[39m>\u001b[39m\u001b[39m=\u001b[39m \u001b[39m300\u001b[39m:\n\u001b[1;32m--> 938\u001b[0m     \u001b[39mraise\u001b[39;00m HttpError(resp, content, uri\u001b[39m=\u001b[39m\u001b[39mself\u001b[39m\u001b[39m.\u001b[39muri)\n\u001b[0;32m    939\u001b[0m \u001b[39mreturn\u001b[39;00m \u001b[39mself\u001b[39m\u001b[39m.\u001b[39mpostproc(resp, content)\n",
      "\u001b[1;31mHttpError\u001b[0m: <HttpError 400 when requesting https://earthengine.googleapis.com/v1/projects/earthengine-legacy/value:compute?prettyPrint=false&alt=json returned \"Collection.loadTable: Collection asset 'ft:1s57dkY_Sg_E_COTe3sy1tIR_U-5Gw-BQNwHh4Xel' not found.\". Details: \"Collection.loadTable: Collection asset 'ft:1s57dkY_Sg_E_COTe3sy1tIR_U-5Gw-BQNwHh4Xel' not found.\">",
      "\nDuring handling of the above exception, another exception occurred:\n",
      "\u001b[1;31mEEException\u001b[0m                               Traceback (most recent call last)",
      "\u001b[1;32mc:\\Users\\Ricardo\\OneDrive - Instituto Nacional de Estadisticas\\Documentos\\INE\\Imagenes_satelitales\\python_descarga\\tutorial2.ipynb Cell 11\u001b[0m line \u001b[0;36m2\n\u001b[0;32m     <a href='vscode-notebook-cell:/c%3A/Users/Ricardo/OneDrive%20-%20Instituto%20Nacional%20de%20Estadisticas/Documentos/INE/Imagenes_satelitales/python_descarga/tutorial2.ipynb#X12sZmlsZQ%3D%3D?line=23'>24</a>\u001b[0m   \u001b[39mreturn\u001b[39;00m feature\u001b[39m.\u001b[39mset(ee\u001b[39m.\u001b[39mDictionary(ee\u001b[39m.\u001b[39mList(\u001b[39mlist\u001b[39m)\u001b[39m.\u001b[39mflatten()))\n\u001b[0;32m     <a href='vscode-notebook-cell:/c%3A/Users/Ricardo/OneDrive%20-%20Instituto%20Nacional%20de%20Estadisticas/Documentos/INE/Imagenes_satelitales/python_descarga/tutorial2.ipynb#X12sZmlsZQ%3D%3D?line=25'>26</a>\u001b[0m result \u001b[39m=\u001b[39m fc_filtered\u001b[39m.\u001b[39mmap(GetSeries)\n\u001b[1;32m---> <a href='vscode-notebook-cell:/c%3A/Users/Ricardo/OneDrive%20-%20Instituto%20Nacional%20de%20Estadisticas/Documentos/INE/Imagenes_satelitales/python_descarga/tutorial2.ipynb#X12sZmlsZQ%3D%3D?line=26'>27</a>\u001b[0m \u001b[39mprint\u001b[39m(result\u001b[39m.\u001b[39;49mgetInfo())\n",
      "File \u001b[1;32mc:\\Users\\Ricardo\\AppData\\Local\\R-MINI~1\\Lib\\site-packages\\ee\\collection.py:157\u001b[0m, in \u001b[0;36mCollection.getInfo\u001b[1;34m(self)\u001b[0m\n\u001b[0;32m    144\u001b[0m \u001b[39mdef\u001b[39;00m \u001b[39mgetInfo\u001b[39m(\u001b[39mself\u001b[39m) \u001b[39m-\u001b[39m\u001b[39m>\u001b[39m Optional[Any]:\n\u001b[0;32m    145\u001b[0m \u001b[39m  \u001b[39m\u001b[39m\"\"\"Returns all the known information about this collection.\u001b[39;00m\n\u001b[0;32m    146\u001b[0m \n\u001b[0;32m    147\u001b[0m \u001b[39m  This function makes an REST call to to retrieve all the known information\u001b[39;00m\n\u001b[1;32m   (...)\u001b[0m\n\u001b[0;32m    155\u001b[0m \u001b[39m         properties.\u001b[39;00m\n\u001b[0;32m    156\u001b[0m \u001b[39m  \"\"\"\u001b[39;00m\n\u001b[1;32m--> 157\u001b[0m   \u001b[39mreturn\u001b[39;00m \u001b[39msuper\u001b[39;49m()\u001b[39m.\u001b[39;49mgetInfo()\n",
      "File \u001b[1;32mc:\\Users\\Ricardo\\AppData\\Local\\R-MINI~1\\Lib\\site-packages\\ee\\computedobject.py:105\u001b[0m, in \u001b[0;36mComputedObject.getInfo\u001b[1;34m(self)\u001b[0m\n\u001b[0;32m     99\u001b[0m \u001b[39mdef\u001b[39;00m \u001b[39mgetInfo\u001b[39m(\u001b[39mself\u001b[39m) \u001b[39m-\u001b[39m\u001b[39m>\u001b[39m Optional[Any]:\n\u001b[0;32m    100\u001b[0m \u001b[39m  \u001b[39m\u001b[39m\"\"\"Fetch and return information about this object.\u001b[39;00m\n\u001b[0;32m    101\u001b[0m \n\u001b[0;32m    102\u001b[0m \u001b[39m  Returns:\u001b[39;00m\n\u001b[0;32m    103\u001b[0m \u001b[39m    The object can evaluate to anything.\u001b[39;00m\n\u001b[0;32m    104\u001b[0m \u001b[39m  \"\"\"\u001b[39;00m\n\u001b[1;32m--> 105\u001b[0m   \u001b[39mreturn\u001b[39;00m data\u001b[39m.\u001b[39;49mcomputeValue(\u001b[39mself\u001b[39;49m)\n",
      "File \u001b[1;32mc:\\Users\\Ricardo\\AppData\\Local\\R-MINI~1\\Lib\\site-packages\\ee\\data.py:1021\u001b[0m, in \u001b[0;36mcomputeValue\u001b[1;34m(obj)\u001b[0m\n\u001b[0;32m   1018\u001b[0m body \u001b[39m=\u001b[39m {\u001b[39m'\u001b[39m\u001b[39mexpression\u001b[39m\u001b[39m'\u001b[39m: serializer\u001b[39m.\u001b[39mencode(obj, for_cloud_api\u001b[39m=\u001b[39m\u001b[39mTrue\u001b[39;00m)}\n\u001b[0;32m   1019\u001b[0m _maybe_populate_workload_tag(body)\n\u001b[1;32m-> 1021\u001b[0m \u001b[39mreturn\u001b[39;00m _execute_cloud_call(\n\u001b[0;32m   1022\u001b[0m     _get_cloud_projects()\n\u001b[0;32m   1023\u001b[0m     \u001b[39m.\u001b[39;49mvalue()\n\u001b[0;32m   1024\u001b[0m     \u001b[39m.\u001b[39;49mcompute(body\u001b[39m=\u001b[39;49mbody, project\u001b[39m=\u001b[39;49m_get_projects_path(), prettyPrint\u001b[39m=\u001b[39;49m\u001b[39mFalse\u001b[39;49;00m)\n\u001b[0;32m   1025\u001b[0m )[\u001b[39m'\u001b[39m\u001b[39mresult\u001b[39m\u001b[39m'\u001b[39m]\n",
      "File \u001b[1;32mc:\\Users\\Ricardo\\AppData\\Local\\R-MINI~1\\Lib\\site-packages\\ee\\data.py:356\u001b[0m, in \u001b[0;36m_execute_cloud_call\u001b[1;34m(call, num_retries)\u001b[0m\n\u001b[0;32m    354\u001b[0m   \u001b[39mreturn\u001b[39;00m call\u001b[39m.\u001b[39mexecute(num_retries\u001b[39m=\u001b[39mnum_retries)\n\u001b[0;32m    355\u001b[0m \u001b[39mexcept\u001b[39;00m googleapiclient\u001b[39m.\u001b[39merrors\u001b[39m.\u001b[39mHttpError \u001b[39mas\u001b[39;00m e:\n\u001b[1;32m--> 356\u001b[0m   \u001b[39mraise\u001b[39;00m _translate_cloud_exception(e)\n",
      "\u001b[1;31mEEException\u001b[0m: Collection.loadTable: Collection asset 'ft:1s57dkY_Sg_E_COTe3sy1tIR_U-5Gw-BQNwHh4Xel' not found."
     ]
    }
   ],
   "source": [
    "import datetime\n",
    "import ee\n",
    "\n",
    "#Feature collection\n",
    "fc = ee.FeatureCollection(\"ft:1s57dkY_Sg_E_COTe3sy1tIR_U-5Gw-BQNwHh4Xel\");\n",
    "fc_filtered = fc.filter(ee.Filter.equals('NUM_DECS', 1))\n",
    "#Image collection\n",
    "Sentinel_collection = (ee.ImageCollection('COPERNICUS/S2')\n",
    "    .filterBounds(fc_filtered)\n",
    "    .filterDate(ee.Date('2017-01-01'),ee.Date('2017-08-01')))\n",
    "\n",
    "def GetSeries(feature):\n",
    "  def NDVIcalc(img):\n",
    "    red = img.select('B4')\n",
    "    nir = img.select('B8')\n",
    "    ndvi = nir.subtract(red).divide(nir.add(red)).rename(['NDVI'])\n",
    "    return (feature\n",
    "            .set(ndvi.reduceRegion(ee.Reducer.mean(), feature.geometry(), 10))\n",
    "            .set('date', img.date().format(\"YYYYMMdd\")))\n",
    "\n",
    "  series = Sentinel_collection.map(NDVIcalc)\n",
    "# Get the time-series of values as two lists.\n",
    "  list = series.reduceColumns(ee.Reducer.toList(2), ['date', 'NDVI']).get('list')\n",
    "  return feature.set(ee.Dictionary(ee.List(list).flatten()))\n",
    "\n",
    "result = fc_filtered.map(GetSeries)\n",
    "print(result.getInfo())"
   ]
  },
  {
   "cell_type": "code",
   "execution_count": 46,
   "metadata": {},
   "outputs": [
    {
     "data": {
      "text/html": [
       "<p>To authorize access needed by Earth Engine, open the following\n",
       "        URL in a web browser and follow the instructions:</p>\n",
       "        <p><a href=https://code.earthengine.google.com/client-auth?scopes=https%3A//www.googleapis.com/auth/earthengine%20https%3A//www.googleapis.com/auth/devstorage.full_control&request_id=R3mwABL3tZSJWOb8BqaEZVMcjAgyYlVtIbktGP12BEM&tc=0XnrcS0u8emBiPtRSmAygY37L0eR7ockburPerWY0Ng&cc=0x5gZdaHN59SzfC7BJeSy5Z9b2GoOYdPS14LoZQiJog>https://code.earthengine.google.com/client-auth?scopes=https%3A//www.googleapis.com/auth/earthengine%20https%3A//www.googleapis.com/auth/devstorage.full_control&request_id=R3mwABL3tZSJWOb8BqaEZVMcjAgyYlVtIbktGP12BEM&tc=0XnrcS0u8emBiPtRSmAygY37L0eR7ockburPerWY0Ng&cc=0x5gZdaHN59SzfC7BJeSy5Z9b2GoOYdPS14LoZQiJog</a></p>\n",
       "        <p>The authorization workflow will generate a code, which you should paste in the box below.</p>\n",
       "        "
      ],
      "text/plain": [
       "<IPython.core.display.HTML object>"
      ]
     },
     "metadata": {},
     "output_type": "display_data"
    }
   ],
   "source": [
    "import ee\n",
    "\n",
    "# https://developers.google.com/earth-engine/guides/service_account#use-a-service-account-with-a-private-key\n",
    "\n",
    "service_account = 'gee-ine@ee-ricpizarrosine.iam.gserviceaccount.com'\n",
    "credentials = ee.ServiceAccountCredentials(service_account, 'privatekey.json')\n",
    "ee.Initialize(credentials)\n",
    "\n",
    "#Set the start date and end date\n",
    "start_date = '2017-10-08'\n",
    "end_date = '2017-10-31'\n",
    "\n",
    "start_date = ee.Date(start_date)\n",
    "end_date = ee.Date(end_date)\n",
    "\n",
    "#Grab image collection\n",
    "gridmet_db = 'IDAHO_EPSCOR/GRIDMET'\n",
    "gridmet_raw= ee.ImageCollection(gridmet_db)\n",
    "\n",
    "#Load California Boundary from TIGER collection\n",
    "cal_bounds = ee.FeatureCollection('TIGER/2016/States').filter(ee.Filter.Or(ee.Filter.eq('NAME','California')))\n",
    "california = cal_bounds.geometry().bounds()\n",
    "\n",
    "#Create the table\n",
    "def return_triplet(image):\n",
    "\n",
    "    def set_properties(f):\n",
    "        return f.set('imageId',image.id()).set('system:index',image.get('system:index')).set('system:time_start',image.get('system:time_start'))\n",
    "\n",
    "    return image.reduceRegions(    \n",
    "        collection=california,\n",
    "        reducer=ee.Reducer.mean(),\n",
    "        scale=2500).map(set_properties)\n",
    "\n",
    "def set_properties(f):\n",
    "    return f.set('imageId',image.id()).set('system:index',image.get('system:index')).set('system:time_start',image.get('system:time_start'))\n",
    "\n",
    "export_triplets_mean = gridmet_raw.filterDate(start_date,end_date).map(return_triplet).flatten()\n",
    "export_triplets_mean.aggregate_array('bi').getInfo()"
   ]
  }
 ],
 "metadata": {
  "kernelspec": {
   "display_name": "base",
   "language": "python",
   "name": "python3"
  },
  "language_info": {
   "codemirror_mode": {
    "name": "ipython",
    "version": 3
   },
   "file_extension": ".py",
   "mimetype": "text/x-python",
   "name": "python",
   "nbconvert_exporter": "python",
   "pygments_lexer": "ipython3",
   "version": "3.11.4"
  }
 },
 "nbformat": 4,
 "nbformat_minor": 2
}
