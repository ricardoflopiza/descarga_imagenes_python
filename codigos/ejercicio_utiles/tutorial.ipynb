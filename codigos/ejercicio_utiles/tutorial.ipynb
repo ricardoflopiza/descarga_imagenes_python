{
 "cells": [
  {
   "cell_type": "code",
   "execution_count": 1,
   "metadata": {},
   "outputs": [],
   "source": [
    "# pip install earthengine-api\n",
    "\n",
    "import ee\n",
    "import geopandas as gpd\n",
    "import json\n",
    "import pandas as pd"
   ]
  },
  {
   "cell_type": "code",
   "execution_count": 2,
   "metadata": {},
   "outputs": [],
   "source": [
    "service_account = 'gee-ine@ee-ricpizarrosine.iam.gserviceaccount.com'\n",
    "credentials = ee.ServiceAccountCredentials(service_account, 'privatekey.json')\n",
    "ee.Initialize(credentials)"
   ]
  },
  {
   "cell_type": "code",
   "execution_count": 3,
   "metadata": {},
   "outputs": [],
   "source": [
    "# Import the MODIS land cover collection.\n",
    "lc = ee.ImageCollection('MODIS/006/MCD12Q1')\n",
    "\n",
    "# Import the MODIS land surface temperature collection.\n",
    "lst = ee.ImageCollection('MODIS/006/MOD11A1')\n",
    "\n",
    "# Import the USGS ground elevation image.\n",
    "elv = ee.Image('USGS/SRTMGL1_003')"
   ]
  },
  {
   "cell_type": "code",
   "execution_count": 4,
   "metadata": {},
   "outputs": [],
   "source": [
    "# Initial date of interest (inclusive).\n",
    "i_date = '2017-01-01'\n",
    "\n",
    "# Final date of interest (exclusive).\n",
    "f_date = '2020-01-01'\n",
    "\n",
    "# Selection of appropriate bands and dates for LST.\n",
    "lst = lst.select('LST_Day_1km', 'QC_Day').filterDate(i_date, f_date)"
   ]
  },
  {
   "cell_type": "code",
   "execution_count": 5,
   "metadata": {},
   "outputs": [],
   "source": [
    "# Define the urban location of interest as a point near Lyon, France.\n",
    "u_lon = 4.8148\n",
    "u_lat = 45.7758\n",
    "u_poi = ee.Geometry.Point(u_lon, u_lat)\n",
    "\n",
    "# Define the rural location of interest as a point away from the city.\n",
    "r_lon = 5.175964\n",
    "r_lat = 45.574064\n",
    "r_poi = ee.Geometry.Point(r_lon, r_lat)"
   ]
  },
  {
   "cell_type": "code",
   "execution_count": 6,
   "metadata": {},
   "outputs": [
    {
     "name": "stdout",
     "output_type": "stream",
     "text": [
      "Ground elevation at urban point: 196 m\n",
      "Average daytime LST at urban point: 23.12 °C\n",
      "Land cover value at urban point is: 13\n"
     ]
    }
   ],
   "source": [
    "scale = 1000  # scale in meters\n",
    "\n",
    "# Print the elevation near Lyon, France.\n",
    "elv_urban_point = elv.sample(u_poi, scale).first().get('elevation').getInfo()\n",
    "print('Ground elevation at urban point:', elv_urban_point, 'm')\n",
    "\n",
    "# Calculate and print the mean value of the LST collection at the point.\n",
    "lst_urban_point = lst.mean().sample(u_poi, scale).first().get('LST_Day_1km').getInfo()\n",
    "print('Average daytime LST at urban point:', round(lst_urban_point*0.02 -273.15, 2), '°C')\n",
    "\n",
    "# Print the land cover type at the point.\n",
    "lc_urban_point = lc.first().sample(u_poi, scale).first().get('LC_Type1').getInfo()\n",
    "print('Land cover value at urban point is:', lc_urban_point)"
   ]
  }
 ],
 "metadata": {
  "kernelspec": {
   "display_name": "base",
   "language": "python",
   "name": "python3"
  },
  "language_info": {
   "codemirror_mode": {
    "name": "ipython",
    "version": 3
   },
   "file_extension": ".py",
   "mimetype": "text/x-python",
   "name": "python",
   "nbconvert_exporter": "python",
   "pygments_lexer": "ipython3",
   "version": "3.11.4"
  }
 },
 "nbformat": 4,
 "nbformat_minor": 2
}
