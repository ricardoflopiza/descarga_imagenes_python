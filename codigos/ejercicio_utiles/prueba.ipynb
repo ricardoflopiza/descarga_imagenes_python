{
 "cells": [
  {
   "cell_type": "code",
   "execution_count": 1,
   "metadata": {},
   "outputs": [],
   "source": [
    "# pip install earthengine-api\n",
    "# https://gis.stackexchange.com/questions/429958/calculating-monthly-modis-ndvi-using-gee-python-api-applied-to-one-or-multiple-r\n",
    "\n",
    "\n",
    "import ee\n",
    "import geopandas as gpd\n",
    "import json\n",
    "import pandas as pd\n",
    "\n",
    "# https://developers.google.com/earth-engine/guides/service_account#use-a-service-account-with-a-private-key\n",
    "\n",
    "service_account = 'gee-ine@ee-ricpizarrosine.iam.gserviceaccount.com'\n",
    "credentials = ee.ServiceAccountCredentials(service_account, 'privatekey.json')\n",
    "ee.Initialize(credentials)\n"
   ]
  },
  {
   "cell_type": "code",
   "execution_count": 2,
   "metadata": {},
   "outputs": [],
   "source": [
    "# Any region of the world\n",
    "polygon = ee.Geometry.Polygon([112.0, 1.0,\n",
    "                               112.0, 1.5,\n",
    "                               112.5, 1.5,\n",
    "                               112.5, 1.0,\n",
    "                               112.0, 1.0])\n",
    "\n",
    "startDate = '2001-01-01'\n",
    "endDate = '2002-12-31'\n"
   ]
  },
  {
   "cell_type": "code",
   "execution_count": 4,
   "metadata": {},
   "outputs": [],
   "source": [
    "\n",
    "modisNDVI = ee.ImageCollection('MODIS/MOD09GA_006_NDVI').select('NDVI').filterDate(startDate, endDate)\n",
    "    \n",
    "def custom_fun(n):\n",
    "    date = ee.Date(startDate).advance(n,'month')\n",
    "    m = date.get(\"month\")\n",
    "    y = date.get(\"year\")\n",
    "    dic = ee.Dictionary({\n",
    "        'Date':date.format('yyyy-MM')\n",
    "    })\n",
    "    \n",
    "    tempNDVI = (modisNDVI.filter(ee.Filter.calendarRange(y, y, 'year'))\n",
    "                .filter(ee.Filter.calendarRange(m, m, 'month'))\n",
    "                .mean()\n",
    "                .reduceRegion(\n",
    "                    reducer = ee.Reducer.mean(),\n",
    "                    geometry = polygon,\n",
    "                    scale = 250))\n",
    "    return dic.combine(tempNDVI)\n",
    "\n",
    "modis_YrMo = ee.List.sequence(0, 12*2-1).map(custom_fun)\n",
    "\n"
   ]
  },
  {
   "cell_type": "code",
   "execution_count": 10,
   "metadata": {},
   "outputs": [
    {
     "ename": "AttributeError",
     "evalue": "'List' object has no attribute 'select'",
     "output_type": "error",
     "traceback": [
      "\u001b[1;31m---------------------------------------------------------------------------\u001b[0m",
      "\u001b[1;31mAttributeError\u001b[0m                            Traceback (most recent call last)",
      "\u001b[1;32mc:\\Users\\Ricardo\\OneDrive - Instituto Nacional de Estadisticas\\Documentos\\INE\\Imagenes_satelitales\\python_descarga\\prueba.ipynb Cell 4\u001b[0m line \u001b[0;36m3\n\u001b[0;32m      <a href='vscode-notebook-cell:/c%3A/Users/Ricardo/OneDrive%20-%20Instituto%20Nacional%20de%20Estadisticas/Documentos/INE/Imagenes_satelitales/python_descarga/prueba.ipynb#W4sZmlsZQ%3D%3D?line=0'>1</a>\u001b[0m \u001b[39m# \u001b[39;00m\n\u001b[0;32m      <a href='vscode-notebook-cell:/c%3A/Users/Ricardo/OneDrive%20-%20Instituto%20Nacional%20de%20Estadisticas/Documentos/INE/Imagenes_satelitales/python_descarga/prueba.ipynb#W4sZmlsZQ%3D%3D?line=1'>2</a>\u001b[0m \u001b[39m# dataframe = pd.DataFrame(modis_YrMo.getInfo())\u001b[39;00m\n\u001b[1;32m----> <a href='vscode-notebook-cell:/c%3A/Users/Ricardo/OneDrive%20-%20Instituto%20Nacional%20de%20Estadisticas/Documentos/INE/Imagenes_satelitales/python_descarga/prueba.ipynb#W4sZmlsZQ%3D%3D?line=2'>3</a>\u001b[0m modis_YrMo\u001b[39m.\u001b[39;49mselect(\u001b[39m'\u001b[39m\u001b[39mNDVI\u001b[39m\u001b[39m'\u001b[39m)\n",
      "\u001b[1;31mAttributeError\u001b[0m: 'List' object has no attribute 'select'"
     ]
    }
   ],
   "source": [
    "# \n",
    "# dataframe = pd.DataFrame(modis_YrMo.getInfo())\n",
    "modis_YrMo.select('NDVI')"
   ]
  }
 ],
 "metadata": {
  "kernelspec": {
   "display_name": "base",
   "language": "python",
   "name": "python3"
  },
  "language_info": {
   "codemirror_mode": {
    "name": "ipython",
    "version": 3
   },
   "file_extension": ".py",
   "mimetype": "text/x-python",
   "name": "python",
   "nbconvert_exporter": "python",
   "pygments_lexer": "ipython3",
   "version": "3.11.4"
  }
 },
 "nbformat": 4,
 "nbformat_minor": 2
}
